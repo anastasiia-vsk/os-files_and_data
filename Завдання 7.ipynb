{
 "cells": [
  {
   "attachments": {},
   "cell_type": "markdown",
   "metadata": {},
   "source": [
    "Створіть функцію, яка буде зчитувати дані з одного типу файлу та зберігати їх у файлі іншого типу. Вона буде приймати 3 аргументи: шлях до файлу; змінну, яка буде визначати тип цього файлу; змінна, яка буде визначати тип файлу, у який потрібно зберегти дані. Функція буде працювати з файлами типу *.txt, *.csv, *.dat. Протестуйте роботу функції…"
   ]
  },
  {
   "cell_type": "code",
   "execution_count": 10,
   "metadata": {},
   "outputs": [],
   "source": [
    "import os.path\n",
    "import csv\n",
    "import pickle"
   ]
  },
  {
   "cell_type": "code",
   "execution_count": 3,
   "metadata": {},
   "outputs": [],
   "source": [
    "CSV = '.csv'\n",
    "DAT = '.dat'\n",
    "TXT = '.txt'"
   ]
  },
  {
   "cell_type": "code",
   "execution_count": 4,
   "metadata": {},
   "outputs": [],
   "source": [
    "def save_to_another_type_of_file(filename, type, another_type):\n",
    "    info = read_file(filename, type)\n",
    "    save_file(info, another_type, filename)"
   ]
  },
  {
   "cell_type": "code",
   "execution_count": 5,
   "metadata": {},
   "outputs": [],
   "source": [
    "def read_file(filename, type):\n",
    "      if type == CSV:\n",
    "        info = read_csv(filename)\n",
    "      elif type == DAT:\n",
    "         info = read_dat(filename)\n",
    "      elif type == TXT:\n",
    "         info = read_txt(filename)\n",
    "      else:\n",
    "          print(\"Неправильний формат файлу\")\n",
    "\n",
    "      return info"
   ]
  },
  {
   "cell_type": "code",
   "execution_count": 6,
   "metadata": {},
   "outputs": [],
   "source": [
    "def read_csv(filename):\n",
    "    with open(filename, 'r', newline='') as f:\n",
    "        reader = csv.reader(f)\n",
    "        info = [row for row in reader]\n",
    "    return info\n",
    "\n",
    "\n",
    "def read_dat(filename):\n",
    "    with open(filename, 'rb') as f:\n",
    "        info = [row for row in info_from_file]\n",
    "    return info\n",
    "\n",
    "\n",
    "def read_txt(filename):\n",
    "    with open(filename, 'r') as f:\n",
    "        info = f.read()\n",
    "    return info.split()"
   ]
  },
  {
   "cell_type": "code",
   "execution_count": 7,
   "metadata": {},
   "outputs": [],
   "source": [
    "def save_file(info, another_type_of_file, filename):\n",
    "   another_filename = change_type_of_filename(filename, another_type_of_file)\n",
    "   if another_type_of_file == CSV:\n",
    "      save_csv(info, another_filename)\n",
    "   elif another_type_of_file == DAT:\n",
    "      save_dat(info, another_filename)\n",
    "   elif another_type_of_file == TXT:\n",
    "      save_txt(info, another_filename)\n",
    "   else:\n",
    "      print('Can not save file' )\n",
    "\n",
    "\n",
    "def change_type_of_filename(filename, another_type):\n",
    "    filename = os.path.splitext(filename)[0] + another_type\n",
    "    return filename"
   ]
  },
  {
   "cell_type": "code",
   "execution_count": 8,
   "metadata": {},
   "outputs": [],
   "source": [
    "def save_csv(info, file_where_write):\n",
    "    with open(file_where_write, 'a', newline='') as f:\n",
    "        writer = csv.writer(f)\n",
    "        writer.writerows(info)\n",
    "\n",
    "\n",
    "def save_dat(info, file_where_write):\n",
    "    with open(file_where_write, 'wb') as f:\n",
    "        pickle.dump(info, f)\n",
    "\n",
    "\n",
    "def save_txt(info, file_where_write):\n",
    "    with open(file_where_write, 'a') as f:\n",
    "        for some in info:\n",
    "            for S in some:\n",
    "                f.write(s)\n",
    "                f.write('\\n')"
   ]
  },
  {
   "cell_type": "code",
   "execution_count": 9,
   "metadata": {},
   "outputs": [
    {
     "name": "stdout",
     "output_type": "stream",
     "text": [
      "Type of the file successfully changed\n"
     ]
    }
   ],
   "source": [
    "save_to_another_type_of_file('D:\\Git\\os-files_and_data\\8.txt', TXT, CSV)\n",
    "print(\"Type of the file successfully changed\")"
   ]
  },
  {
   "cell_type": "code",
   "execution_count": null,
   "metadata": {},
   "outputs": [],
   "source": []
  },
  {
   "cell_type": "code",
   "execution_count": null,
   "metadata": {},
   "outputs": [],
   "source": []
  }
 ],
 "metadata": {
  "kernelspec": {
   "display_name": "Python 3.10.8 64-bit (microsoft store)",
   "language": "python",
   "name": "python3"
  },
  "language_info": {
   "codemirror_mode": {
    "name": "ipython",
    "version": 3
   },
   "file_extension": ".py",
   "mimetype": "text/x-python",
   "name": "python",
   "nbconvert_exporter": "python",
   "pygments_lexer": "ipython3",
   "version": "3.10.8"
  },
  "orig_nbformat": 4,
  "vscode": {
   "interpreter": {
    "hash": "a6511e6b41b26ba86cca7483749cf4dd15bf137a2672e550741a656e19bba82e"
   }
  }
 },
 "nbformat": 4,
 "nbformat_minor": 2
}
