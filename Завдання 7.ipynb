{
 "cells": [
  {
   "cell_type": "markdown",
   "metadata": {},
   "source": [
    "Створіть функцію, яка буде зчитувати дані з одного типу файлу та зберігати їх у файлі іншого типу. Вона буде приймати 3 аргументи: шлях до файлу; змінну, яка буде визначати тип цього файлу; змінна, яка буде визначати тип файлу, у який потрібно зберегти дані. Функція буде працювати з файлами типу *.txt, *.csv, *.dat. Протестуйте роботу функції…"
   ]
  },
  {
   "cell_type": "code",
   "execution_count": 1,
   "metadata": {},
   "outputs": [],
   "source": [
    "way_1 = str(input(\"Вкажіть перший файл: \"))"
   ]
  },
  {
   "cell_type": "code",
   "execution_count": 2,
   "metadata": {},
   "outputs": [],
   "source": [
    "way_2 = str(input(\"Вкажіть другий файл: \"))\n"
   ]
  },
  {
   "cell_type": "code",
   "execution_count": 3,
   "metadata": {},
   "outputs": [],
   "source": [
    "way_list_2 = list(way_2)\n",
    "way_list_1 = list(way_1)"
   ]
  },
  {
   "cell_type": "code",
   "execution_count": 4,
   "metadata": {},
   "outputs": [],
   "source": [
    "def func(way_list_1, way_list_2):\n",
    "    if way_1[-3:] == 'txt':\n",
    "        print(\"Файл \" + way_1 + \" формату *.txt.\")\n",
    "    elif way_1[-3:] == 'csv':\n",
    "        print(\"Файл \" + way_1 + \" формату *.csv.\")\n",
    "    elif way_1[-3:] == 'dat':\n",
    "        print(\"Файл \" + way_1 + \" формату *.dat.\")\n",
    "\n",
    "    if way_2[-3:] == 'txt':\n",
    "        print(\"Файл \" + way_2 + \" формату *.txt.\")\n",
    "    elif way_2[-3:] == 'csv':\n",
    "        print(\"Файл \" + way_2 + \" формату *.csv.\")\n",
    "    elif way_2[-3:] == 'dat':\n",
    "        print(\"Файл \" + way_2 + \" формату *.dat.\")\n",
    "\n",
    "    with open(way_1, 'r') as w:\n",
    "        content = w.read()\n",
    "\n",
    "    with open(way_2, 'w') as k:\n",
    "        print(content, file=k)\n",
    "\n",
    "    return \"\""
   ]
  },
  {
   "cell_type": "code",
   "execution_count": 5,
   "metadata": {},
   "outputs": [
    {
     "name": "stdout",
     "output_type": "stream",
     "text": [
      "Файл Exercise_6.txt формату *.txt.\n",
      "Файл Exercise_6.csv формату *.csv.\n"
     ]
    },
    {
     "data": {
      "text/plain": [
       "''"
      ]
     },
     "execution_count": 5,
     "metadata": {},
     "output_type": "execute_result"
    }
   ],
   "source": [
    "func(way_list_1, way_list_2)\n"
   ]
  },
  {
   "cell_type": "code",
   "execution_count": null,
   "metadata": {},
   "outputs": [],
   "source": []
  }
 ],
 "metadata": {
  "kernelspec": {
   "display_name": "Python 3.10.8 64-bit (microsoft store)",
   "language": "python",
   "name": "python3"
  },
  "language_info": {
   "codemirror_mode": {
    "name": "ipython",
    "version": 3
   },
   "file_extension": ".py",
   "mimetype": "text/x-python",
   "name": "python",
   "nbconvert_exporter": "python",
   "pygments_lexer": "ipython3",
   "version": "3.10.8"
  },
  "orig_nbformat": 4,
  "vscode": {
   "interpreter": {
    "hash": "a6511e6b41b26ba86cca7483749cf4dd15bf137a2672e550741a656e19bba82e"
   }
  }
 },
 "nbformat": 4,
 "nbformat_minor": 2
}
