{
 "cells": [
  {
   "cell_type": "markdown",
   "metadata": {},
   "source": [
    "Виведіть поточну дату у форматах, прийнятих у різних сторонах світу."
   ]
  },
  {
   "cell_type": "code",
   "execution_count": 3,
   "metadata": {},
   "outputs": [],
   "source": [
    "import datetime\n",
    "from datetime import date"
   ]
  },
  {
   "cell_type": "code",
   "execution_count": 4,
   "metadata": {},
   "outputs": [],
   "source": [
    "today_date = date.today()"
   ]
  },
  {
   "cell_type": "code",
   "execution_count": 6,
   "metadata": {},
   "outputs": [
    {
     "name": "stdout",
     "output_type": "stream",
     "text": [
      "2022-12-05\n"
     ]
    }
   ],
   "source": [
    "print(str(today_date))"
   ]
  },
  {
   "cell_type": "code",
   "execution_count": 36,
   "metadata": {},
   "outputs": [
    {
     "name": "stdout",
     "output_type": "stream",
     "text": [
      "Україна, Туреччина, Чехія: 05.12.2022 \n",
      "Угорщина, Польща, Щвеція: 2022.12.05 \n",
      "КНР, Литва, Канада: 2022-12-05 \n",
      "Данія, Португалія: 05-12-2022 \n",
      "Велика Британія, Іспанія, Італія, Франція, США: 05/12/2022 \n"
     ]
    }
   ],
   "source": [
    "print(f\"Україна, Туреччина, Чехія: {today_date.strftime('%d.%m.%Y')} \")\n",
    "print(f\"Угорщина, Польща, Щвеція: {today_date.strftime('%Y.%m.%d')} \")\n",
    "print(f\"КНР, Литва, Канада: {today_date.strftime('%Y-%m-%d')} \")\n",
    "print(f\"Данія, Португалія: {today_date.strftime('%d-%m-%Y')} \")\n",
    "print(f\"Велика Британія, Іспанія, Італія, Франція, США: {today_date.strftime('%d/%m/%Y')} \")"
   ]
  }
 ],
 "metadata": {
  "kernelspec": {
   "display_name": "Python 3.10.8 64-bit (microsoft store)",
   "language": "python",
   "name": "python3"
  },
  "language_info": {
   "codemirror_mode": {
    "name": "ipython",
    "version": 3
   },
   "file_extension": ".py",
   "mimetype": "text/x-python",
   "name": "python",
   "nbconvert_exporter": "python",
   "pygments_lexer": "ipython3",
   "version": "3.10.8"
  },
  "orig_nbformat": 4,
  "vscode": {
   "interpreter": {
    "hash": "a6511e6b41b26ba86cca7483749cf4dd15bf137a2672e550741a656e19bba82e"
   }
  }
 },
 "nbformat": 4,
 "nbformat_minor": 2
}
