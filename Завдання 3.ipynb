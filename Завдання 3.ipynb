{
 "cells": [
  {
   "cell_type": "markdown",
   "metadata": {},
   "source": [
    "Створіть клас героя для RPG-гри. У нього повинні бути характеристики (ім’я, HP, AC, STR, DEX і т.д.) та інвентар з предметами в ньому (можуть бути просто назви, або повноцінні об’єкти з описом (у вигляді екземплярів класів)). Найдайте йому методи save та load. Відповідно, перший буде сереалізувати його характеристики, а другий – десереалізувати."
   ]
  },
  {
   "cell_type": "code",
   "execution_count": 2,
   "metadata": {},
   "outputs": [],
   "source": [
    "#serializing and deserializing a Python object structure\n",
    "import pickle"
   ]
  },
  {
   "cell_type": "code",
   "execution_count": 57,
   "metadata": {},
   "outputs": [],
   "source": [
    "class Hero():\n",
    "    def __init__(self, name, hp, ac, str, dex): #конструктор\n",
    "        self.name = name\n",
    "        self.hp = hp\n",
    "        self.ac = ac\n",
    "        self.str = str\n",
    "        self.dex = dex\n",
    "        self.inventory = []\n",
    "\n",
    "    def start_game(self):\n",
    "        print('Запуск гри...')\n",
    "        print('Ім\\'я персонажа:', self.name)\n",
    "        print('XP:', self.hp)\n",
    "        print('AC:', self.ac)\n",
    "        print('STR:', self.str)\n",
    "        print('DEX:', self.dex)\n",
    "\n",
    "# >> > with open('data.pickle', 'wb') as f:\n",
    "# ...     pickle.dump(data, f)\n",
    "# ...\n",
    "# >> > with open('data.pickle', 'rb') as f:\n",
    "# ...     data_new = pickle.load(f)\n",
    "\n",
    "    def save(self, file_):\n",
    "        with open(file_, 'wb') as f:\n",
    "            pickle.dump(Hero, f)  #записывает сериализованный объект в файл\n",
    "\n",
    "    def load(self, file_):\n",
    "        with open(file_, 'rb') as f:\n",
    "            load = pickle.load(f)  # загружает объект из файла\n",
    "            print(load)"
   ]
  },
  {
   "cell_type": "code",
   "execution_count": 58,
   "metadata": {},
   "outputs": [],
   "source": [
    "hero1 = Hero('Nastya', '200', '30', '70', '45')"
   ]
  },
  {
   "cell_type": "code",
   "execution_count": 59,
   "metadata": {},
   "outputs": [
    {
     "name": "stdout",
     "output_type": "stream",
     "text": [
      "Запуск гри...\n",
      "Ім'я персонажа: Nastya\n",
      "XP: 200\n",
      "AC: 30\n",
      "STR: 70\n",
      "DEX: 45\n"
     ]
    }
   ],
   "source": [
    "hero1.start_game()"
   ]
  },
  {
   "cell_type": "code",
   "execution_count": 60,
   "metadata": {},
   "outputs": [],
   "source": [
    "hero.save(r\"D:\\\\Git\\hero.dat\")"
   ]
  },
  {
   "cell_type": "code",
   "execution_count": 61,
   "metadata": {},
   "outputs": [
    {
     "name": "stdout",
     "output_type": "stream",
     "text": [
      "<class '__main__.Hero'>\n"
     ]
    }
   ],
   "source": [
    "hero.load(r\"D:\\\\Git\\hero.dat\")"
   ]
  },
  {
   "cell_type": "code",
   "execution_count": null,
   "metadata": {},
   "outputs": [],
   "source": []
  }
 ],
 "metadata": {
  "kernelspec": {
   "display_name": "Python 3.10.8 64-bit (microsoft store)",
   "language": "python",
   "name": "python3"
  },
  "language_info": {
   "codemirror_mode": {
    "name": "ipython",
    "version": 3
   },
   "file_extension": ".py",
   "mimetype": "text/x-python",
   "name": "python",
   "nbconvert_exporter": "python",
   "pygments_lexer": "ipython3",
   "version": "3.10.8"
  },
  "orig_nbformat": 4,
  "vscode": {
   "interpreter": {
    "hash": "a6511e6b41b26ba86cca7483749cf4dd15bf137a2672e550741a656e19bba82e"
   }
  }
 },
 "nbformat": 4,
 "nbformat_minor": 2
}
